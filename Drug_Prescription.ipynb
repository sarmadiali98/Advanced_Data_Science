{
  "nbformat": 4,
  "nbformat_minor": 0,
  "metadata": {
    "colab": {
      "provenance": []
    },
    "kernelspec": {
      "name": "python3",
      "display_name": "Python 3"
    },
    "language_info": {
      "name": "python"
    }
  },
  "cells": [
    {
      "cell_type": "markdown",
      "source": [
        "## for this home work we used drug-classification dataset from kaggle. the goal is to predict which drug is suitable for the patient.\n",
        "## The target feature is \"Drug type\"\n",
        "## And The feature sets are:\n",
        "\n",
        "\n",
        "*   Age\n",
        "*   Sex\n",
        "*   Blood Pressure Levels (BP)\n",
        "*   Cholesterol Levels\n",
        "*   Na to Potassium Ratio\n",
        "\n",
        "## there are five types of drugs so the requierd value for F1-score is above: 2.5/number_of_classes=0.5 but this is a relatively easy dataset and is some cases we reach the total precision of 1.00 (no false prediction is achivable here)."
      ],
      "metadata": {
        "id": "MxihMnlH2Li3"
      }
    },
    {
      "cell_type": "code",
      "source": [
        "import matplotlib.pyplot as plt\n",
        "import numpy as np\n",
        "import pandas as pd\n",
        "from matplotlib.ticker import PercentFormatter\n",
        "import os\n",
        "import seaborn as sns\n",
        "import plotly.express as pex\n",
        "from sklearn.preprocessing import LabelEncoder\n",
        "from sklearn.preprocessing import StandardScaler\n",
        "from sklearn.model_selection import train_test_split\n",
        "from sklearn.model_selection import GridSearchCV\n",
        "from sklearn.svm import SVC\n",
        "from sklearn.linear_model import LogisticRegression\n",
        "from sklearn.metrics import classification_report as cr\n",
        "from sklearn.metrics import log_loss\n",
        "from sklearn.metrics import f1_score\n",
        "from sklearn.neighbors import KNeighborsClassifier\n",
        "from sklearn.tree import DecisionTreeClassifier\n",
        "from xgboost import XGBClassifier\n",
        "from xgboost import plot_importance\n",
        "import lightgbm as lgb\n",
        "!pip install catboost\n",
        "from catboost import CatBoostClassifier\n"
      ],
      "metadata": {
        "colab": {
          "base_uri": "https://localhost:8080/"
        },
        "id": "T1Xin2du5Tkz",
        "outputId": "815d3ac5-9671-4b2d-dc5b-5dd4b64ccc1c"
      },
      "execution_count": 1,
      "outputs": [
        {
          "output_type": "stream",
          "name": "stdout",
          "text": [
            "Requirement already satisfied: catboost in /usr/local/lib/python3.10/dist-packages (1.2.2)\n",
            "Requirement already satisfied: graphviz in /usr/local/lib/python3.10/dist-packages (from catboost) (0.20.1)\n",
            "Requirement already satisfied: matplotlib in /usr/local/lib/python3.10/dist-packages (from catboost) (3.7.1)\n",
            "Requirement already satisfied: numpy>=1.16.0 in /usr/local/lib/python3.10/dist-packages (from catboost) (1.23.5)\n",
            "Requirement already satisfied: pandas>=0.24 in /usr/local/lib/python3.10/dist-packages (from catboost) (1.5.3)\n",
            "Requirement already satisfied: scipy in /usr/local/lib/python3.10/dist-packages (from catboost) (1.11.4)\n",
            "Requirement already satisfied: plotly in /usr/local/lib/python3.10/dist-packages (from catboost) (5.15.0)\n",
            "Requirement already satisfied: six in /usr/local/lib/python3.10/dist-packages (from catboost) (1.16.0)\n",
            "Requirement already satisfied: python-dateutil>=2.8.1 in /usr/local/lib/python3.10/dist-packages (from pandas>=0.24->catboost) (2.8.2)\n",
            "Requirement already satisfied: pytz>=2020.1 in /usr/local/lib/python3.10/dist-packages (from pandas>=0.24->catboost) (2023.3.post1)\n",
            "Requirement already satisfied: contourpy>=1.0.1 in /usr/local/lib/python3.10/dist-packages (from matplotlib->catboost) (1.2.0)\n",
            "Requirement already satisfied: cycler>=0.10 in /usr/local/lib/python3.10/dist-packages (from matplotlib->catboost) (0.12.1)\n",
            "Requirement already satisfied: fonttools>=4.22.0 in /usr/local/lib/python3.10/dist-packages (from matplotlib->catboost) (4.45.1)\n",
            "Requirement already satisfied: kiwisolver>=1.0.1 in /usr/local/lib/python3.10/dist-packages (from matplotlib->catboost) (1.4.5)\n",
            "Requirement already satisfied: packaging>=20.0 in /usr/local/lib/python3.10/dist-packages (from matplotlib->catboost) (23.2)\n",
            "Requirement already satisfied: pillow>=6.2.0 in /usr/local/lib/python3.10/dist-packages (from matplotlib->catboost) (9.4.0)\n",
            "Requirement already satisfied: pyparsing>=2.3.1 in /usr/local/lib/python3.10/dist-packages (from matplotlib->catboost) (3.1.1)\n",
            "Requirement already satisfied: tenacity>=6.2.0 in /usr/local/lib/python3.10/dist-packages (from plotly->catboost) (8.2.3)\n"
          ]
        }
      ]
    },
    {
      "cell_type": "code",
      "execution_count": 2,
      "metadata": {
        "id": "RA3ujX1Nt2YE",
        "colab": {
          "base_uri": "https://localhost:8080/"
        },
        "outputId": "2f384492-a2dd-4a66-c1f6-7cc25a567c6a"
      },
      "outputs": [
        {
          "output_type": "stream",
          "name": "stdout",
          "text": [
            "Drive already mounted at /content/gdrive; to attempt to forcibly remount, call drive.mount(\"/content/gdrive\", force_remount=True).\n",
            "/content/gdrive/My Drive/Kaggle\n"
          ]
        }
      ],
      "source": [
        "from google.colab import drive\n",
        "drive.mount('/content/gdrive')\n",
        "os.environ['KAGGLE_CONFIG_DIR'] = \"/content/gdrive/My Drive/Kaggle\"\n",
        "%cd /content/gdrive/My Drive/Kaggle"
      ]
    },
    {
      "cell_type": "code",
      "source": [
        "! kaggle datasets download -d prathamtripathi/drug-classification"
      ],
      "metadata": {
        "colab": {
          "base_uri": "https://localhost:8080/"
        },
        "id": "W0ai3Up32sSF",
        "outputId": "be6f5c6c-1608-4542-f2ce-fddd93217003"
      },
      "execution_count": 3,
      "outputs": [
        {
          "output_type": "stream",
          "name": "stdout",
          "text": [
            "drug-classification.zip: Skipping, found more recently modified local copy (use --force to force download)\n"
          ]
        }
      ]
    },
    {
      "cell_type": "code",
      "source": [
        "!unzip \\*.zip"
      ],
      "metadata": {
        "colab": {
          "base_uri": "https://localhost:8080/"
        },
        "id": "oxH_8LTa2sPq",
        "outputId": "a9c125c6-911f-4903-8a0e-5ea59c4952e6"
      },
      "execution_count": 4,
      "outputs": [
        {
          "output_type": "stream",
          "name": "stdout",
          "text": [
            "Archive:  drug-classification.zip\n",
            "replace drug200.csv? [y]es, [n]o, [A]ll, [N]one, [r]ename: y\n",
            "  inflating: drug200.csv             \n"
          ]
        }
      ]
    },
    {
      "cell_type": "code",
      "source": [
        "df = pd.read_csv('drug200.csv')\n",
        "df.head()"
      ],
      "metadata": {
        "colab": {
          "base_uri": "https://localhost:8080/",
          "height": 206
        },
        "id": "yKA8I3Dj2sNN",
        "outputId": "1c16acd2-b93b-45e5-97b4-1957c3a0c6cf"
      },
      "execution_count": 5,
      "outputs": [
        {
          "output_type": "execute_result",
          "data": {
            "text/plain": [
              "   Age Sex      BP Cholesterol  Na_to_K   Drug\n",
              "0   23   F    HIGH        HIGH   25.355  DrugY\n",
              "1   47   M     LOW        HIGH   13.093  drugC\n",
              "2   47   M     LOW        HIGH   10.114  drugC\n",
              "3   28   F  NORMAL        HIGH    7.798  drugX\n",
              "4   61   F     LOW        HIGH   18.043  DrugY"
            ],
            "text/html": [
              "\n",
              "  <div id=\"df-1afc9ef5-c41d-4403-94e3-c36185c316ca\" class=\"colab-df-container\">\n",
              "    <div>\n",
              "<style scoped>\n",
              "    .dataframe tbody tr th:only-of-type {\n",
              "        vertical-align: middle;\n",
              "    }\n",
              "\n",
              "    .dataframe tbody tr th {\n",
              "        vertical-align: top;\n",
              "    }\n",
              "\n",
              "    .dataframe thead th {\n",
              "        text-align: right;\n",
              "    }\n",
              "</style>\n",
              "<table border=\"1\" class=\"dataframe\">\n",
              "  <thead>\n",
              "    <tr style=\"text-align: right;\">\n",
              "      <th></th>\n",
              "      <th>Age</th>\n",
              "      <th>Sex</th>\n",
              "      <th>BP</th>\n",
              "      <th>Cholesterol</th>\n",
              "      <th>Na_to_K</th>\n",
              "      <th>Drug</th>\n",
              "    </tr>\n",
              "  </thead>\n",
              "  <tbody>\n",
              "    <tr>\n",
              "      <th>0</th>\n",
              "      <td>23</td>\n",
              "      <td>F</td>\n",
              "      <td>HIGH</td>\n",
              "      <td>HIGH</td>\n",
              "      <td>25.355</td>\n",
              "      <td>DrugY</td>\n",
              "    </tr>\n",
              "    <tr>\n",
              "      <th>1</th>\n",
              "      <td>47</td>\n",
              "      <td>M</td>\n",
              "      <td>LOW</td>\n",
              "      <td>HIGH</td>\n",
              "      <td>13.093</td>\n",
              "      <td>drugC</td>\n",
              "    </tr>\n",
              "    <tr>\n",
              "      <th>2</th>\n",
              "      <td>47</td>\n",
              "      <td>M</td>\n",
              "      <td>LOW</td>\n",
              "      <td>HIGH</td>\n",
              "      <td>10.114</td>\n",
              "      <td>drugC</td>\n",
              "    </tr>\n",
              "    <tr>\n",
              "      <th>3</th>\n",
              "      <td>28</td>\n",
              "      <td>F</td>\n",
              "      <td>NORMAL</td>\n",
              "      <td>HIGH</td>\n",
              "      <td>7.798</td>\n",
              "      <td>drugX</td>\n",
              "    </tr>\n",
              "    <tr>\n",
              "      <th>4</th>\n",
              "      <td>61</td>\n",
              "      <td>F</td>\n",
              "      <td>LOW</td>\n",
              "      <td>HIGH</td>\n",
              "      <td>18.043</td>\n",
              "      <td>DrugY</td>\n",
              "    </tr>\n",
              "  </tbody>\n",
              "</table>\n",
              "</div>\n",
              "    <div class=\"colab-df-buttons\">\n",
              "\n",
              "  <div class=\"colab-df-container\">\n",
              "    <button class=\"colab-df-convert\" onclick=\"convertToInteractive('df-1afc9ef5-c41d-4403-94e3-c36185c316ca')\"\n",
              "            title=\"Convert this dataframe to an interactive table.\"\n",
              "            style=\"display:none;\">\n",
              "\n",
              "  <svg xmlns=\"http://www.w3.org/2000/svg\" height=\"24px\" viewBox=\"0 -960 960 960\">\n",
              "    <path d=\"M120-120v-720h720v720H120Zm60-500h600v-160H180v160Zm220 220h160v-160H400v160Zm0 220h160v-160H400v160ZM180-400h160v-160H180v160Zm440 0h160v-160H620v160ZM180-180h160v-160H180v160Zm440 0h160v-160H620v160Z\"/>\n",
              "  </svg>\n",
              "    </button>\n",
              "\n",
              "  <style>\n",
              "    .colab-df-container {\n",
              "      display:flex;\n",
              "      gap: 12px;\n",
              "    }\n",
              "\n",
              "    .colab-df-convert {\n",
              "      background-color: #E8F0FE;\n",
              "      border: none;\n",
              "      border-radius: 50%;\n",
              "      cursor: pointer;\n",
              "      display: none;\n",
              "      fill: #1967D2;\n",
              "      height: 32px;\n",
              "      padding: 0 0 0 0;\n",
              "      width: 32px;\n",
              "    }\n",
              "\n",
              "    .colab-df-convert:hover {\n",
              "      background-color: #E2EBFA;\n",
              "      box-shadow: 0px 1px 2px rgba(60, 64, 67, 0.3), 0px 1px 3px 1px rgba(60, 64, 67, 0.15);\n",
              "      fill: #174EA6;\n",
              "    }\n",
              "\n",
              "    .colab-df-buttons div {\n",
              "      margin-bottom: 4px;\n",
              "    }\n",
              "\n",
              "    [theme=dark] .colab-df-convert {\n",
              "      background-color: #3B4455;\n",
              "      fill: #D2E3FC;\n",
              "    }\n",
              "\n",
              "    [theme=dark] .colab-df-convert:hover {\n",
              "      background-color: #434B5C;\n",
              "      box-shadow: 0px 1px 3px 1px rgba(0, 0, 0, 0.15);\n",
              "      filter: drop-shadow(0px 1px 2px rgba(0, 0, 0, 0.3));\n",
              "      fill: #FFFFFF;\n",
              "    }\n",
              "  </style>\n",
              "\n",
              "    <script>\n",
              "      const buttonEl =\n",
              "        document.querySelector('#df-1afc9ef5-c41d-4403-94e3-c36185c316ca button.colab-df-convert');\n",
              "      buttonEl.style.display =\n",
              "        google.colab.kernel.accessAllowed ? 'block' : 'none';\n",
              "\n",
              "      async function convertToInteractive(key) {\n",
              "        const element = document.querySelector('#df-1afc9ef5-c41d-4403-94e3-c36185c316ca');\n",
              "        const dataTable =\n",
              "          await google.colab.kernel.invokeFunction('convertToInteractive',\n",
              "                                                    [key], {});\n",
              "        if (!dataTable) return;\n",
              "\n",
              "        const docLinkHtml = 'Like what you see? Visit the ' +\n",
              "          '<a target=\"_blank\" href=https://colab.research.google.com/notebooks/data_table.ipynb>data table notebook</a>'\n",
              "          + ' to learn more about interactive tables.';\n",
              "        element.innerHTML = '';\n",
              "        dataTable['output_type'] = 'display_data';\n",
              "        await google.colab.output.renderOutput(dataTable, element);\n",
              "        const docLink = document.createElement('div');\n",
              "        docLink.innerHTML = docLinkHtml;\n",
              "        element.appendChild(docLink);\n",
              "      }\n",
              "    </script>\n",
              "  </div>\n",
              "\n",
              "\n",
              "<div id=\"df-6f2462d5-8f77-4171-bee4-22db72565914\">\n",
              "  <button class=\"colab-df-quickchart\" onclick=\"quickchart('df-6f2462d5-8f77-4171-bee4-22db72565914')\"\n",
              "            title=\"Suggest charts\"\n",
              "            style=\"display:none;\">\n",
              "\n",
              "<svg xmlns=\"http://www.w3.org/2000/svg\" height=\"24px\"viewBox=\"0 0 24 24\"\n",
              "     width=\"24px\">\n",
              "    <g>\n",
              "        <path d=\"M19 3H5c-1.1 0-2 .9-2 2v14c0 1.1.9 2 2 2h14c1.1 0 2-.9 2-2V5c0-1.1-.9-2-2-2zM9 17H7v-7h2v7zm4 0h-2V7h2v10zm4 0h-2v-4h2v4z\"/>\n",
              "    </g>\n",
              "</svg>\n",
              "  </button>\n",
              "\n",
              "<style>\n",
              "  .colab-df-quickchart {\n",
              "      --bg-color: #E8F0FE;\n",
              "      --fill-color: #1967D2;\n",
              "      --hover-bg-color: #E2EBFA;\n",
              "      --hover-fill-color: #174EA6;\n",
              "      --disabled-fill-color: #AAA;\n",
              "      --disabled-bg-color: #DDD;\n",
              "  }\n",
              "\n",
              "  [theme=dark] .colab-df-quickchart {\n",
              "      --bg-color: #3B4455;\n",
              "      --fill-color: #D2E3FC;\n",
              "      --hover-bg-color: #434B5C;\n",
              "      --hover-fill-color: #FFFFFF;\n",
              "      --disabled-bg-color: #3B4455;\n",
              "      --disabled-fill-color: #666;\n",
              "  }\n",
              "\n",
              "  .colab-df-quickchart {\n",
              "    background-color: var(--bg-color);\n",
              "    border: none;\n",
              "    border-radius: 50%;\n",
              "    cursor: pointer;\n",
              "    display: none;\n",
              "    fill: var(--fill-color);\n",
              "    height: 32px;\n",
              "    padding: 0;\n",
              "    width: 32px;\n",
              "  }\n",
              "\n",
              "  .colab-df-quickchart:hover {\n",
              "    background-color: var(--hover-bg-color);\n",
              "    box-shadow: 0 1px 2px rgba(60, 64, 67, 0.3), 0 1px 3px 1px rgba(60, 64, 67, 0.15);\n",
              "    fill: var(--button-hover-fill-color);\n",
              "  }\n",
              "\n",
              "  .colab-df-quickchart-complete:disabled,\n",
              "  .colab-df-quickchart-complete:disabled:hover {\n",
              "    background-color: var(--disabled-bg-color);\n",
              "    fill: var(--disabled-fill-color);\n",
              "    box-shadow: none;\n",
              "  }\n",
              "\n",
              "  .colab-df-spinner {\n",
              "    border: 2px solid var(--fill-color);\n",
              "    border-color: transparent;\n",
              "    border-bottom-color: var(--fill-color);\n",
              "    animation:\n",
              "      spin 1s steps(1) infinite;\n",
              "  }\n",
              "\n",
              "  @keyframes spin {\n",
              "    0% {\n",
              "      border-color: transparent;\n",
              "      border-bottom-color: var(--fill-color);\n",
              "      border-left-color: var(--fill-color);\n",
              "    }\n",
              "    20% {\n",
              "      border-color: transparent;\n",
              "      border-left-color: var(--fill-color);\n",
              "      border-top-color: var(--fill-color);\n",
              "    }\n",
              "    30% {\n",
              "      border-color: transparent;\n",
              "      border-left-color: var(--fill-color);\n",
              "      border-top-color: var(--fill-color);\n",
              "      border-right-color: var(--fill-color);\n",
              "    }\n",
              "    40% {\n",
              "      border-color: transparent;\n",
              "      border-right-color: var(--fill-color);\n",
              "      border-top-color: var(--fill-color);\n",
              "    }\n",
              "    60% {\n",
              "      border-color: transparent;\n",
              "      border-right-color: var(--fill-color);\n",
              "    }\n",
              "    80% {\n",
              "      border-color: transparent;\n",
              "      border-right-color: var(--fill-color);\n",
              "      border-bottom-color: var(--fill-color);\n",
              "    }\n",
              "    90% {\n",
              "      border-color: transparent;\n",
              "      border-bottom-color: var(--fill-color);\n",
              "    }\n",
              "  }\n",
              "</style>\n",
              "\n",
              "  <script>\n",
              "    async function quickchart(key) {\n",
              "      const quickchartButtonEl =\n",
              "        document.querySelector('#' + key + ' button');\n",
              "      quickchartButtonEl.disabled = true;  // To prevent multiple clicks.\n",
              "      quickchartButtonEl.classList.add('colab-df-spinner');\n",
              "      try {\n",
              "        const charts = await google.colab.kernel.invokeFunction(\n",
              "            'suggestCharts', [key], {});\n",
              "      } catch (error) {\n",
              "        console.error('Error during call to suggestCharts:', error);\n",
              "      }\n",
              "      quickchartButtonEl.classList.remove('colab-df-spinner');\n",
              "      quickchartButtonEl.classList.add('colab-df-quickchart-complete');\n",
              "    }\n",
              "    (() => {\n",
              "      let quickchartButtonEl =\n",
              "        document.querySelector('#df-6f2462d5-8f77-4171-bee4-22db72565914 button');\n",
              "      quickchartButtonEl.style.display =\n",
              "        google.colab.kernel.accessAllowed ? 'block' : 'none';\n",
              "    })();\n",
              "  </script>\n",
              "</div>\n",
              "    </div>\n",
              "  </div>\n"
            ]
          },
          "metadata": {},
          "execution_count": 5
        }
      ]
    },
    {
      "cell_type": "code",
      "source": [
        "df.info()"
      ],
      "metadata": {
        "colab": {
          "base_uri": "https://localhost:8080/"
        },
        "id": "u6O3FIdD2sLL",
        "outputId": "3ec47c56-32de-442d-d589-cb58f138b256"
      },
      "execution_count": 6,
      "outputs": [
        {
          "output_type": "stream",
          "name": "stdout",
          "text": [
            "<class 'pandas.core.frame.DataFrame'>\n",
            "RangeIndex: 200 entries, 0 to 199\n",
            "Data columns (total 6 columns):\n",
            " #   Column       Non-Null Count  Dtype  \n",
            "---  ------       --------------  -----  \n",
            " 0   Age          200 non-null    int64  \n",
            " 1   Sex          200 non-null    object \n",
            " 2   BP           200 non-null    object \n",
            " 3   Cholesterol  200 non-null    object \n",
            " 4   Na_to_K      200 non-null    float64\n",
            " 5   Drug         200 non-null    object \n",
            "dtypes: float64(1), int64(1), object(4)\n",
            "memory usage: 9.5+ KB\n"
          ]
        }
      ]
    },
    {
      "cell_type": "markdown",
      "source": [
        "## as you can see 4 columns have categorical data and probably need to be encoded.\n"
      ],
      "metadata": {
        "id": "PUud0XWMF_IM"
      }
    },
    {
      "cell_type": "code",
      "source": [
        "df.describe()"
      ],
      "metadata": {
        "colab": {
          "base_uri": "https://localhost:8080/",
          "height": 300
        },
        "id": "ALYZmDts2sIt",
        "outputId": "528bbe24-6fc5-43b2-f62f-f9b05236cdd9"
      },
      "execution_count": 7,
      "outputs": [
        {
          "output_type": "execute_result",
          "data": {
            "text/plain": [
              "              Age     Na_to_K\n",
              "count  200.000000  200.000000\n",
              "mean    44.315000   16.084485\n",
              "std     16.544315    7.223956\n",
              "min     15.000000    6.269000\n",
              "25%     31.000000   10.445500\n",
              "50%     45.000000   13.936500\n",
              "75%     58.000000   19.380000\n",
              "max     74.000000   38.247000"
            ],
            "text/html": [
              "\n",
              "  <div id=\"df-3adfff8e-bd39-4684-9336-9f650f83ae6c\" class=\"colab-df-container\">\n",
              "    <div>\n",
              "<style scoped>\n",
              "    .dataframe tbody tr th:only-of-type {\n",
              "        vertical-align: middle;\n",
              "    }\n",
              "\n",
              "    .dataframe tbody tr th {\n",
              "        vertical-align: top;\n",
              "    }\n",
              "\n",
              "    .dataframe thead th {\n",
              "        text-align: right;\n",
              "    }\n",
              "</style>\n",
              "<table border=\"1\" class=\"dataframe\">\n",
              "  <thead>\n",
              "    <tr style=\"text-align: right;\">\n",
              "      <th></th>\n",
              "      <th>Age</th>\n",
              "      <th>Na_to_K</th>\n",
              "    </tr>\n",
              "  </thead>\n",
              "  <tbody>\n",
              "    <tr>\n",
              "      <th>count</th>\n",
              "      <td>200.000000</td>\n",
              "      <td>200.000000</td>\n",
              "    </tr>\n",
              "    <tr>\n",
              "      <th>mean</th>\n",
              "      <td>44.315000</td>\n",
              "      <td>16.084485</td>\n",
              "    </tr>\n",
              "    <tr>\n",
              "      <th>std</th>\n",
              "      <td>16.544315</td>\n",
              "      <td>7.223956</td>\n",
              "    </tr>\n",
              "    <tr>\n",
              "      <th>min</th>\n",
              "      <td>15.000000</td>\n",
              "      <td>6.269000</td>\n",
              "    </tr>\n",
              "    <tr>\n",
              "      <th>25%</th>\n",
              "      <td>31.000000</td>\n",
              "      <td>10.445500</td>\n",
              "    </tr>\n",
              "    <tr>\n",
              "      <th>50%</th>\n",
              "      <td>45.000000</td>\n",
              "      <td>13.936500</td>\n",
              "    </tr>\n",
              "    <tr>\n",
              "      <th>75%</th>\n",
              "      <td>58.000000</td>\n",
              "      <td>19.380000</td>\n",
              "    </tr>\n",
              "    <tr>\n",
              "      <th>max</th>\n",
              "      <td>74.000000</td>\n",
              "      <td>38.247000</td>\n",
              "    </tr>\n",
              "  </tbody>\n",
              "</table>\n",
              "</div>\n",
              "    <div class=\"colab-df-buttons\">\n",
              "\n",
              "  <div class=\"colab-df-container\">\n",
              "    <button class=\"colab-df-convert\" onclick=\"convertToInteractive('df-3adfff8e-bd39-4684-9336-9f650f83ae6c')\"\n",
              "            title=\"Convert this dataframe to an interactive table.\"\n",
              "            style=\"display:none;\">\n",
              "\n",
              "  <svg xmlns=\"http://www.w3.org/2000/svg\" height=\"24px\" viewBox=\"0 -960 960 960\">\n",
              "    <path d=\"M120-120v-720h720v720H120Zm60-500h600v-160H180v160Zm220 220h160v-160H400v160Zm0 220h160v-160H400v160ZM180-400h160v-160H180v160Zm440 0h160v-160H620v160ZM180-180h160v-160H180v160Zm440 0h160v-160H620v160Z\"/>\n",
              "  </svg>\n",
              "    </button>\n",
              "\n",
              "  <style>\n",
              "    .colab-df-container {\n",
              "      display:flex;\n",
              "      gap: 12px;\n",
              "    }\n",
              "\n",
              "    .colab-df-convert {\n",
              "      background-color: #E8F0FE;\n",
              "      border: none;\n",
              "      border-radius: 50%;\n",
              "      cursor: pointer;\n",
              "      display: none;\n",
              "      fill: #1967D2;\n",
              "      height: 32px;\n",
              "      padding: 0 0 0 0;\n",
              "      width: 32px;\n",
              "    }\n",
              "\n",
              "    .colab-df-convert:hover {\n",
              "      background-color: #E2EBFA;\n",
              "      box-shadow: 0px 1px 2px rgba(60, 64, 67, 0.3), 0px 1px 3px 1px rgba(60, 64, 67, 0.15);\n",
              "      fill: #174EA6;\n",
              "    }\n",
              "\n",
              "    .colab-df-buttons div {\n",
              "      margin-bottom: 4px;\n",
              "    }\n",
              "\n",
              "    [theme=dark] .colab-df-convert {\n",
              "      background-color: #3B4455;\n",
              "      fill: #D2E3FC;\n",
              "    }\n",
              "\n",
              "    [theme=dark] .colab-df-convert:hover {\n",
              "      background-color: #434B5C;\n",
              "      box-shadow: 0px 1px 3px 1px rgba(0, 0, 0, 0.15);\n",
              "      filter: drop-shadow(0px 1px 2px rgba(0, 0, 0, 0.3));\n",
              "      fill: #FFFFFF;\n",
              "    }\n",
              "  </style>\n",
              "\n",
              "    <script>\n",
              "      const buttonEl =\n",
              "        document.querySelector('#df-3adfff8e-bd39-4684-9336-9f650f83ae6c button.colab-df-convert');\n",
              "      buttonEl.style.display =\n",
              "        google.colab.kernel.accessAllowed ? 'block' : 'none';\n",
              "\n",
              "      async function convertToInteractive(key) {\n",
              "        const element = document.querySelector('#df-3adfff8e-bd39-4684-9336-9f650f83ae6c');\n",
              "        const dataTable =\n",
              "          await google.colab.kernel.invokeFunction('convertToInteractive',\n",
              "                                                    [key], {});\n",
              "        if (!dataTable) return;\n",
              "\n",
              "        const docLinkHtml = 'Like what you see? Visit the ' +\n",
              "          '<a target=\"_blank\" href=https://colab.research.google.com/notebooks/data_table.ipynb>data table notebook</a>'\n",
              "          + ' to learn more about interactive tables.';\n",
              "        element.innerHTML = '';\n",
              "        dataTable['output_type'] = 'display_data';\n",
              "        await google.colab.output.renderOutput(dataTable, element);\n",
              "        const docLink = document.createElement('div');\n",
              "        docLink.innerHTML = docLinkHtml;\n",
              "        element.appendChild(docLink);\n",
              "      }\n",
              "    </script>\n",
              "  </div>\n",
              "\n",
              "\n",
              "<div id=\"df-344e3b2e-9372-4b22-8e4a-8a500c0a3ccd\">\n",
              "  <button class=\"colab-df-quickchart\" onclick=\"quickchart('df-344e3b2e-9372-4b22-8e4a-8a500c0a3ccd')\"\n",
              "            title=\"Suggest charts\"\n",
              "            style=\"display:none;\">\n",
              "\n",
              "<svg xmlns=\"http://www.w3.org/2000/svg\" height=\"24px\"viewBox=\"0 0 24 24\"\n",
              "     width=\"24px\">\n",
              "    <g>\n",
              "        <path d=\"M19 3H5c-1.1 0-2 .9-2 2v14c0 1.1.9 2 2 2h14c1.1 0 2-.9 2-2V5c0-1.1-.9-2-2-2zM9 17H7v-7h2v7zm4 0h-2V7h2v10zm4 0h-2v-4h2v4z\"/>\n",
              "    </g>\n",
              "</svg>\n",
              "  </button>\n",
              "\n",
              "<style>\n",
              "  .colab-df-quickchart {\n",
              "      --bg-color: #E8F0FE;\n",
              "      --fill-color: #1967D2;\n",
              "      --hover-bg-color: #E2EBFA;\n",
              "      --hover-fill-color: #174EA6;\n",
              "      --disabled-fill-color: #AAA;\n",
              "      --disabled-bg-color: #DDD;\n",
              "  }\n",
              "\n",
              "  [theme=dark] .colab-df-quickchart {\n",
              "      --bg-color: #3B4455;\n",
              "      --fill-color: #D2E3FC;\n",
              "      --hover-bg-color: #434B5C;\n",
              "      --hover-fill-color: #FFFFFF;\n",
              "      --disabled-bg-color: #3B4455;\n",
              "      --disabled-fill-color: #666;\n",
              "  }\n",
              "\n",
              "  .colab-df-quickchart {\n",
              "    background-color: var(--bg-color);\n",
              "    border: none;\n",
              "    border-radius: 50%;\n",
              "    cursor: pointer;\n",
              "    display: none;\n",
              "    fill: var(--fill-color);\n",
              "    height: 32px;\n",
              "    padding: 0;\n",
              "    width: 32px;\n",
              "  }\n",
              "\n",
              "  .colab-df-quickchart:hover {\n",
              "    background-color: var(--hover-bg-color);\n",
              "    box-shadow: 0 1px 2px rgba(60, 64, 67, 0.3), 0 1px 3px 1px rgba(60, 64, 67, 0.15);\n",
              "    fill: var(--button-hover-fill-color);\n",
              "  }\n",
              "\n",
              "  .colab-df-quickchart-complete:disabled,\n",
              "  .colab-df-quickchart-complete:disabled:hover {\n",
              "    background-color: var(--disabled-bg-color);\n",
              "    fill: var(--disabled-fill-color);\n",
              "    box-shadow: none;\n",
              "  }\n",
              "\n",
              "  .colab-df-spinner {\n",
              "    border: 2px solid var(--fill-color);\n",
              "    border-color: transparent;\n",
              "    border-bottom-color: var(--fill-color);\n",
              "    animation:\n",
              "      spin 1s steps(1) infinite;\n",
              "  }\n",
              "\n",
              "  @keyframes spin {\n",
              "    0% {\n",
              "      border-color: transparent;\n",
              "      border-bottom-color: var(--fill-color);\n",
              "      border-left-color: var(--fill-color);\n",
              "    }\n",
              "    20% {\n",
              "      border-color: transparent;\n",
              "      border-left-color: var(--fill-color);\n",
              "      border-top-color: var(--fill-color);\n",
              "    }\n",
              "    30% {\n",
              "      border-color: transparent;\n",
              "      border-left-color: var(--fill-color);\n",
              "      border-top-color: var(--fill-color);\n",
              "      border-right-color: var(--fill-color);\n",
              "    }\n",
              "    40% {\n",
              "      border-color: transparent;\n",
              "      border-right-color: var(--fill-color);\n",
              "      border-top-color: var(--fill-color);\n",
              "    }\n",
              "    60% {\n",
              "      border-color: transparent;\n",
              "      border-right-color: var(--fill-color);\n",
              "    }\n",
              "    80% {\n",
              "      border-color: transparent;\n",
              "      border-right-color: var(--fill-color);\n",
              "      border-bottom-color: var(--fill-color);\n",
              "    }\n",
              "    90% {\n",
              "      border-color: transparent;\n",
              "      border-bottom-color: var(--fill-color);\n",
              "    }\n",
              "  }\n",
              "</style>\n",
              "\n",
              "  <script>\n",
              "    async function quickchart(key) {\n",
              "      const quickchartButtonEl =\n",
              "        document.querySelector('#' + key + ' button');\n",
              "      quickchartButtonEl.disabled = true;  // To prevent multiple clicks.\n",
              "      quickchartButtonEl.classList.add('colab-df-spinner');\n",
              "      try {\n",
              "        const charts = await google.colab.kernel.invokeFunction(\n",
              "            'suggestCharts', [key], {});\n",
              "      } catch (error) {\n",
              "        console.error('Error during call to suggestCharts:', error);\n",
              "      }\n",
              "      quickchartButtonEl.classList.remove('colab-df-spinner');\n",
              "      quickchartButtonEl.classList.add('colab-df-quickchart-complete');\n",
              "    }\n",
              "    (() => {\n",
              "      let quickchartButtonEl =\n",
              "        document.querySelector('#df-344e3b2e-9372-4b22-8e4a-8a500c0a3ccd button');\n",
              "      quickchartButtonEl.style.display =\n",
              "        google.colab.kernel.accessAllowed ? 'block' : 'none';\n",
              "    })();\n",
              "  </script>\n",
              "</div>\n",
              "    </div>\n",
              "  </div>\n"
            ]
          },
          "metadata": {},
          "execution_count": 7
        }
      ]
    },
    {
      "cell_type": "code",
      "source": [
        "df.isna().sum()"
      ],
      "metadata": {
        "colab": {
          "base_uri": "https://localhost:8080/"
        },
        "id": "s2b_SonK2sGW",
        "outputId": "e34a1887-5549-4629-b664-2c63e3532b82"
      },
      "execution_count": 8,
      "outputs": [
        {
          "output_type": "execute_result",
          "data": {
            "text/plain": [
              "Age            0\n",
              "Sex            0\n",
              "BP             0\n",
              "Cholesterol    0\n",
              "Na_to_K        0\n",
              "Drug           0\n",
              "dtype: int64"
            ]
          },
          "metadata": {},
          "execution_count": 8
        }
      ]
    },
    {
      "cell_type": "markdown",
      "source": [
        "## there isn't any null value."
      ],
      "metadata": {
        "id": "Mv143V-XGVxf"
      }
    },
    {
      "cell_type": "markdown",
      "source": [
        "##now lets visualize some columns\n"
      ],
      "metadata": {
        "id": "TupfVJChRn5P"
      }
    },
    {
      "cell_type": "code",
      "source": [
        "# number of samples with specific type of drug.\n",
        "plt.figure(figsize=(8, 6))\n",
        "sns.countplot(df,x='Drug')\n",
        "plt.title(\"Drug_count\")\n",
        "plt.show()"
      ],
      "metadata": {
        "colab": {
          "base_uri": "https://localhost:8080/",
          "height": 564
        },
        "id": "yCdUarNW2sEE",
        "outputId": "993aac17-b680-4fc7-b550-600feab61627"
      },
      "execution_count": 9,
      "outputs": [
        {
          "output_type": "display_data",
          "data": {
            "text/plain": [
              "<Figure size 800x600 with 1 Axes>"
            ],
            "image/png": "[encoded data removed]"
          },
          "metadata": {}
        }
      ]
    },
    {
      "cell_type": "markdown",
      "source": [
        "## it seems that data is imbalanced and for drugs \"Y\" and \"X\" there are plenty of examples."
      ],
      "metadata": {
        "id": "N6Ru5qMtSKXY"
      }
    },
    {
      "cell_type": "code",
      "source": [
        "plt.figure(figsize=(8, 6))\n",
        "sns.countplot(df,x='BP')\n",
        "plt.title(\"BP_Count\")\n",
        "plt.show()"
      ],
      "metadata": {
        "colab": {
          "base_uri": "https://localhost:8080/",
          "height": 564
        },
        "id": "jPJV-dO62sBr",
        "outputId": "4bddb43e-2bb1-486c-a4da-9cf7bdf6ea1d"
      },
      "execution_count": 10,
      "outputs": [
        {
          "output_type": "display_data",
          "data": {
            "text/plain": [
              "<Figure size 800x600 with 1 Axes>"
            ],
            "image/png": "[encoded data removed]"
          },
          "metadata": {}
        }
      ]
    },
    {
      "cell_type": "code",
      "source": [
        "plt.figure(figsize=(8, 6))\n",
        "sns.countplot(df, x='Sex')\n",
        "plt.title('Sex_Count')\n",
        "plt.show()"
      ],
      "metadata": {
        "colab": {
          "base_uri": "https://localhost:8080/",
          "height": 564
        },
        "id": "myXQBrSr2r_b",
        "outputId": "fe42cdb5-b9bf-497a-9277-038ae0fba978"
      },
      "execution_count": 11,
      "outputs": [
        {
          "output_type": "display_data",
          "data": {
            "text/plain": [
              "<Figure size 800x600 with 1 Axes>"
            ],
            "image/png": "[encoded data removed]"
          },
          "metadata": {}
        }
      ]
    },
    {
      "cell_type": "markdown",
      "source": [
        "## it seems the samples are distributed almost equally around different sexes and also different blood pressure."
      ],
      "metadata": {
        "id": "16mVz6KRA7DK"
      }
    },
    {
      "cell_type": "code",
      "source": [
        "plt.figure(figsize=(8, 6))\n",
        "sns.displot(df.Age)\n",
        "plt.title('Age distribution')\n",
        "plt.show()"
      ],
      "metadata": {
        "colab": {
          "base_uri": "https://localhost:8080/",
          "height": 546
        },
        "id": "d2cQLo7s2r84",
        "outputId": "75515b2c-7d47-4774-f923-507b80c8e33a"
      },
      "execution_count": 12,
      "outputs": [
        {
          "output_type": "display_data",
          "data": {
            "text/plain": [
              "<Figure size 800x600 with 0 Axes>"
            ]
          },
          "metadata": {}
        },
        {
          "output_type": "display_data",
          "data": {
            "text/plain": [
              "<Figure size 500x500 with 1 Axes>"
            ],
            "image/png": "[encoded data removed]"
          },
          "metadata": {}
        }
      ]
    },
    {
      "cell_type": "markdown",
      "source": [
        "## samples are taken fairly from all ages from 20 to under 80's."
      ],
      "metadata": {
        "id": "D3pnejwRBXEn"
      }
    },
    {
      "cell_type": "code",
      "source": [
        "plt.figure(figsize=(12, 6))\n",
        "sns.swarmplot(x='Drug', y='Na_to_K', data=df)\n",
        "plt.title(\"Na_to_K Distribution for each Drug Type\")\n",
        "plt.show()"
      ],
      "metadata": {
        "colab": {
          "base_uri": "https://localhost:8080/",
          "height": 564
        },
        "id": "AZxauHGi2r6g",
        "outputId": "374531b1-8cc9-4047-abea-be11c00d7a82"
      },
      "execution_count": 13,
      "outputs": [
        {
          "output_type": "display_data",
          "data": {
            "text/plain": [
              "<Figure size 1200x600 with 1 Axes>"
            ],
            "image/png": "[encoded data removed]"
          },
          "metadata": {}
        }
      ]
    },
    {
      "cell_type": "markdown",
      "source": [
        "## we can see that based on Na_to_K ration we can decide about using Drug_Y. in general this dataset seem alot like strictly categorical and so the decision tree should yeild a good result."
      ],
      "metadata": {
        "id": "BnExPiDhBjhC"
      }
    },
    {
      "cell_type": "markdown",
      "source": [
        "##first we do some routine tasks like label encoding, train/test split and so on:"
      ],
      "metadata": {
        "id": "TlZWXMKJ9aH1"
      }
    },
    {
      "cell_type": "code",
      "source": [
        "# label encoding\n",
        "label_enc = LabelEncoder()\n",
        "for i in (['BP', 'Cholesterol', 'Sex', 'Drug']):\n",
        "  df[i] = label_enc.fit_transform(df[i])\n",
        "\n",
        "# spliting the target column\n",
        "correct_labels = df.pop('Drug')"
      ],
      "metadata": {
        "id": "Q_gd_ensCGS0"
      },
      "execution_count": 15,
      "outputs": []
    },
    {
      "cell_type": "markdown",
      "source": [
        "## as we ran below tests, we found that in a lot's of tests we can reach 100% accuracy because the dataset is relatively easy.\n",
        "## so we set test size to 0.4 of samples to make the task more challenging:\n"
      ],
      "metadata": {
        "id": "uPhRcAVECCur"
      }
    },
    {
      "cell_type": "markdown",
      "source": [
        "## do normalization and Making train/test split:"
      ],
      "metadata": {
        "id": "GznRFsRGDvqW"
      }
    },
    {
      "cell_type": "code",
      "source": [
        "# Scaling and Normalization\n",
        "scaler = StandardScaler()\n",
        "normalized_df = scaler.fit_transform(df)\n",
        "\n",
        "# train/test split\n",
        "x_train, x_test, y_train, y_test = train_test_split(normalized_df, correct_labels, test_size=0.4)"
      ],
      "metadata": {
        "id": "OFnvxQsBDuI1"
      },
      "execution_count": 48,
      "outputs": []
    },
    {
      "cell_type": "markdown",
      "source": [
        "## SVM"
      ],
      "metadata": {
        "id": "qK-VCcsqCsr3"
      }
    },
    {
      "cell_type": "code",
      "source": [
        "from sklearn.svm import SVC\n",
        "SVC_model = SVC(C=2, kernel='linear', decision_function_shape='ovr', max_iter=1000)\n",
        "SVC_model.fit(x_train, y_train)\n",
        "SVC_predicted = SVC_model.predict(x_test)"
      ],
      "metadata": {
        "id": "Qip2XVRtMIzn"
      },
      "execution_count": 49,
      "outputs": []
    },
    {
      "cell_type": "code",
      "source": [
        "print(cr(SVC_predicted, y_test))"
      ],
      "metadata": {
        "colab": {
          "base_uri": "https://localhost:8080/"
        },
        "id": "PRP7qEGSNy6C",
        "outputId": "14aef494-8cb5-4ca2-a354-1c816f5179f2"
      },
      "execution_count": 50,
      "outputs": [
        {
          "output_type": "stream",
          "name": "stdout",
          "text": [
            "              precision    recall  f1-score   support\n",
            "\n",
            "           0       0.97      0.94      0.96        36\n",
            "           1       1.00      0.89      0.94         9\n",
            "           2       0.75      1.00      0.86         3\n",
            "           3       0.89      1.00      0.94         8\n",
            "           4       0.96      0.96      0.96        24\n",
            "\n",
            "    accuracy                           0.95        80\n",
            "   macro avg       0.91      0.96      0.93        80\n",
            "weighted avg       0.95      0.95      0.95        80\n",
            "\n"
          ]
        }
      ]
    },
    {
      "cell_type": "markdown",
      "source": [
        "## this is totally a good result considering that SVM just sees 60% of samples."
      ],
      "metadata": {
        "id": "oEhKDowlEO5v"
      }
    },
    {
      "cell_type": "markdown",
      "source": [
        "## Logistic Regression"
      ],
      "metadata": {
        "id": "NklF6t7TDAeA"
      }
    },
    {
      "cell_type": "code",
      "source": [
        "from sklearn.linear_model import LogisticRegression\n",
        "LR_model_ovr = LogisticRegression(multi_class='ovr')\n",
        "LR_model_ovr.fit(x_train, y_train)\n",
        "LR_ovr_predicted = LR_model_ovr.predict(x_test)"
      ],
      "metadata": {
        "id": "mWG3QHAJORUa"
      },
      "execution_count": 52,
      "outputs": []
    },
    {
      "cell_type": "code",
      "source": [
        "print(cr(LR_ovr_predicted, y_test))"
      ],
      "metadata": {
        "colab": {
          "base_uri": "https://localhost:8080/"
        },
        "id": "Z3ASSLkbPtBp",
        "outputId": "ab6bfa50-a7c6-4611-ce45-57aa0a8e63e6"
      },
      "execution_count": 53,
      "outputs": [
        {
          "output_type": "stream",
          "name": "stdout",
          "text": [
            "              precision    recall  f1-score   support\n",
            "\n",
            "           0       0.91      0.91      0.91        35\n",
            "           1       1.00      0.73      0.84        11\n",
            "           2       0.75      0.75      0.75         4\n",
            "           3       0.22      1.00      0.36         2\n",
            "           4       0.96      0.82      0.88        28\n",
            "\n",
            "    accuracy                           0.85        80\n",
            "   macro avg       0.77      0.84      0.75        80\n",
            "weighted avg       0.92      0.85      0.87        80\n",
            "\n"
          ]
        }
      ]
    },
    {
      "cell_type": "markdown",
      "source": [
        "Logistic Regression yeild smaller F1-scores across all classes."
      ],
      "metadata": {
        "id": "NqhhQJ4lDGl_"
      }
    },
    {
      "cell_type": "markdown",
      "source": [
        "### Multinomial Logistic Regression"
      ],
      "metadata": {
        "id": "wZa-tsSSDdG5"
      }
    },
    {
      "cell_type": "code",
      "source": [
        "LR_model_multinomial = LogisticRegression(multi_class='multinomial')\n",
        "LR_model_multinomial.fit(x_train, y_train)\n",
        "LR_multinomial_predicted = LR_model_multinomial.predict(x_test)"
      ],
      "metadata": {
        "id": "-xKhMqs3PwvY"
      },
      "execution_count": 54,
      "outputs": []
    },
    {
      "cell_type": "code",
      "source": [
        "print(cr(LR_multinomial_predicted, y_test))"
      ],
      "metadata": {
        "colab": {
          "base_uri": "https://localhost:8080/"
        },
        "id": "HKWJwTA_P4LN",
        "outputId": "97a93aa1-2c1d-44c8-a9a9-3f6e41e1aeac"
      },
      "execution_count": 55,
      "outputs": [
        {
          "output_type": "stream",
          "name": "stdout",
          "text": [
            "              precision    recall  f1-score   support\n",
            "\n",
            "           0       0.91      0.94      0.93        34\n",
            "           1       1.00      0.73      0.84        11\n",
            "           2       0.75      0.75      0.75         4\n",
            "           3       0.56      1.00      0.71         5\n",
            "           4       1.00      0.92      0.96        26\n",
            "\n",
            "    accuracy                           0.90        80\n",
            "   macro avg       0.84      0.87      0.84        80\n",
            "weighted avg       0.92      0.90      0.90        80\n",
            "\n"
          ]
        }
      ]
    },
    {
      "cell_type": "markdown",
      "source": [
        "F1-score rises compared to Logistic Regression"
      ],
      "metadata": {
        "id": "lW2hLMcgDl0B"
      }
    },
    {
      "cell_type": "code",
      "source": [
        "# calculating LogLoss\n",
        "pred_prob = LR_model_multinomial.predict_proba(x_test)\n",
        "loss = log_loss(y_test, pred_prob)\n",
        "print('The log_loss of multinomial logistic regression is: {}'.format(loss))"
      ],
      "metadata": {
        "colab": {
          "base_uri": "https://localhost:8080/"
        },
        "id": "2LYUvstCQFHW",
        "outputId": "a5fbe871-378f-4e1d-bd95-01a35616b69b"
      },
      "execution_count": 77,
      "outputs": [
        {
          "output_type": "stream",
          "name": "stdout",
          "text": [
            "The log_loss of multinomial logistic regression is: 0.35175743862473957\n"
          ]
        }
      ]
    },
    {
      "cell_type": "markdown",
      "source": [
        "## K Nearest Neighbors"
      ],
      "metadata": {
        "id": "qJmxF8PzD0Yw"
      }
    },
    {
      "cell_type": "code",
      "source": [
        "n = range(2, 80)\n",
        "scores = []\n",
        "for i in n:\n",
        "  model = KNeighborsClassifier(n_neighbors=i, weights='distance')\n",
        "  model.fit(x_train, y_train)\n",
        "  predict = model.predict(x_test)\n",
        "  scores.append(f1_score(y_test, predict, average='macro'))"
      ],
      "metadata": {
        "id": "5ij9QZCUSTnj"
      },
      "execution_count": 59,
      "outputs": []
    },
    {
      "cell_type": "code",
      "source": [
        "plt.figure(figsize=(12, 7))\n",
        "plt.plot(n, scores)\n",
        "plt.xlabel('Number of Neighbors')\n",
        "plt.ylabel('F1-Score')\n",
        "plt.show()"
      ],
      "metadata": {
        "colab": {
          "base_uri": "https://localhost:8080/",
          "height": 619
        },
        "id": "H79nMD0HTmwK",
        "outputId": "171d07a7-a334-4a71-8d13-89a3eb69cf8b"
      },
      "execution_count": 61,
      "outputs": [
        {
          "output_type": "display_data",
          "data": {
            "text/plain": [
              "<Figure size 1200x700 with 1 Axes>"
            ],
            "image/png": "[encoded data removed]"
          },
          "metadata": {}
        }
      ]
    },
    {
      "cell_type": "markdown",
      "source": [
        "## lets take a closer look:"
      ],
      "metadata": {
        "id": "zWoBx9msU6vz"
      }
    },
    {
      "cell_type": "code",
      "source": [
        "plt.figure(figsize=(12, 7))\n",
        "plt.plot(n, scores)\n",
        "plt.xlabel('Number of Neighbors')\n",
        "plt.ylabel('F1-Score')\n",
        "plt.xlim(20,35)\n",
        "plt.show()"
      ],
      "metadata": {
        "colab": {
          "base_uri": "https://localhost:8080/",
          "height": 619
        },
        "id": "iV-FoTqJFT46",
        "outputId": "571fc455-f0ad-4f45-dfe7-db4b0609be83"
      },
      "execution_count": 62,
      "outputs": [
        {
          "output_type": "display_data",
          "data": {
            "text/plain": [
              "<Figure size 1200x700 with 1 Axes>"
            ],
            "image/png": "[encoded data removed]"
          },
          "metadata": {}
        }
      ]
    },
    {
      "cell_type": "markdown",
      "source": [
        "## so for KNN, the F1-Score will be maximum when number of neighbors set to 27. this is mostly because our train set is relatively small and the ajgorithm needs to see a lot of neighbours."
      ],
      "metadata": {
        "id": "YbOxQMwJZ92y"
      }
    },
    {
      "cell_type": "code",
      "source": [
        "KNN_model=KNeighborsClassifier(n_neighbors=27, weights='distance')\n",
        "KNN_model.fit(x_train, y_train)\n",
        "KNN_predicted=KNN_model.predict(x_test)"
      ],
      "metadata": {
        "id": "GzkY2_clXxuh"
      },
      "execution_count": 78,
      "outputs": []
    },
    {
      "cell_type": "code",
      "source": [
        "print(cr(KNN_predicted, y_test))"
      ],
      "metadata": {
        "colab": {
          "base_uri": "https://localhost:8080/"
        },
        "id": "d37-m43faR17",
        "outputId": "595b6585-97c9-4a1f-c741-a00473a7d26c"
      },
      "execution_count": 79,
      "outputs": [
        {
          "output_type": "stream",
          "name": "stdout",
          "text": [
            "              precision    recall  f1-score   support\n",
            "\n",
            "           0       0.86      0.81      0.83        37\n",
            "           1       1.00      0.89      0.94         9\n",
            "           2       0.75      0.75      0.75         4\n",
            "           3       0.33      1.00      0.50         3\n",
            "           4       0.92      0.81      0.86        27\n",
            "\n",
            "    accuracy                           0.82        80\n",
            "   macro avg       0.77      0.85      0.78        80\n",
            "weighted avg       0.87      0.82      0.84        80\n",
            "\n"
          ]
        }
      ]
    },
    {
      "cell_type": "markdown",
      "source": [
        "## it seems that, so far, class 3 is the hardest class to predict (probably due to low samples)"
      ],
      "metadata": {
        "id": "gvK1_qlfVcaS"
      }
    },
    {
      "cell_type": "markdown",
      "source": [
        "## Decesion Tree"
      ],
      "metadata": {
        "id": "Ft20Az61EVIw"
      }
    },
    {
      "cell_type": "code",
      "source": [
        "TREE_model = DecisionTreeClassifier(criterion='gini',max_depth=10)\n",
        "TREE_model.fit(x_train, y_train)\n",
        "TREE_predicted = TREE_model.predict(x_test)"
      ],
      "metadata": {
        "id": "Z7lAcAS4acU3"
      },
      "execution_count": 65,
      "outputs": []
    },
    {
      "cell_type": "code",
      "source": [
        "print(cr(TREE_predicted, y_test))"
      ],
      "metadata": {
        "colab": {
          "base_uri": "https://localhost:8080/"
        },
        "id": "XViKDhASbhyA",
        "outputId": "a3229d16-146d-487d-e033-aecefa527cbb"
      },
      "execution_count": 66,
      "outputs": [
        {
          "output_type": "stream",
          "name": "stdout",
          "text": [
            "              precision    recall  f1-score   support\n",
            "\n",
            "           0       1.00      1.00      1.00        35\n",
            "           1       1.00      0.89      0.94         9\n",
            "           2       0.75      1.00      0.86         3\n",
            "           3       1.00      1.00      1.00         9\n",
            "           4       1.00      1.00      1.00        24\n",
            "\n",
            "    accuracy                           0.99        80\n",
            "   macro avg       0.95      0.98      0.96        80\n",
            "weighted avg       0.99      0.99      0.99        80\n",
            "\n"
          ]
        }
      ]
    },
    {
      "cell_type": "markdown",
      "source": [
        "## decision tree is doing great! even for class 3."
      ],
      "metadata": {
        "id": "ISgk-VsOPDAJ"
      }
    },
    {
      "cell_type": "markdown",
      "source": [
        "## XGBoost"
      ],
      "metadata": {
        "id": "Tyo1gE11EbKJ"
      }
    },
    {
      "cell_type": "markdown",
      "source": [
        "## for these algorithms we make their work even harder:"
      ],
      "metadata": {
        "id": "uht4VVCPelKP"
      }
    },
    {
      "cell_type": "code",
      "source": [
        "x_train, x_test, y_train, y_test = train_test_split(normalized_df, correct_labels, test_size=0.6)"
      ],
      "metadata": {
        "id": "xVr74KzDcf22"
      },
      "execution_count": 119,
      "outputs": []
    },
    {
      "cell_type": "code",
      "source": [
        "XGB_model = XGBClassifier(n_estimators=50)\n",
        "XGB_model.fit(x_train, y_train,eval_metric=f1_score)\n",
        "XGB_predicted = XGB_model.predict(x_test)"
      ],
      "metadata": {
        "id": "fLAM9B6AcNAu",
        "colab": {
          "base_uri": "https://localhost:8080/"
        },
        "outputId": "f4a7291c-ee59-45ab-eddc-9962ab921774"
      },
      "execution_count": 122,
      "outputs": [
        {
          "output_type": "stream",
          "name": "stderr",
          "text": [
            "/usr/local/lib/python3.10/dist-packages/xgboost/sklearn.py:885: UserWarning: `eval_metric` in `fit` method is deprecated for better compatibility with scikit-learn, use `eval_metric` in constructor or`set_params` instead.\n",
            "  warnings.warn(\n"
          ]
        }
      ]
    },
    {
      "cell_type": "code",
      "source": [
        "print(cr(XGB_predicted, y_test))"
      ],
      "metadata": {
        "colab": {
          "base_uri": "https://localhost:8080/"
        },
        "id": "-ThBLussdKeB",
        "outputId": "495da2f2-ee58-4e2c-ff2f-de1a7b665712"
      },
      "execution_count": 124,
      "outputs": [
        {
          "output_type": "stream",
          "name": "stdout",
          "text": [
            "              precision    recall  f1-score   support\n",
            "\n",
            "           0       0.93      1.00      0.97        56\n",
            "           1       0.93      0.93      0.93        14\n",
            "           2       1.00      0.92      0.96        12\n",
            "           3       1.00      0.78      0.88         9\n",
            "           4       1.00      0.97      0.98        29\n",
            "\n",
            "    accuracy                           0.96       120\n",
            "   macro avg       0.97      0.92      0.94       120\n",
            "weighted avg       0.96      0.96      0.96       120\n",
            "\n"
          ]
        }
      ]
    },
    {
      "cell_type": "markdown",
      "source": [
        "## xgboost scores are still good. lets do grid search:"
      ],
      "metadata": {
        "id": "wkFdjop0PMJr"
      }
    },
    {
      "cell_type": "code",
      "source": [
        "from sklearn.model_selection import RandomizedSearchCV\n",
        "# Create the grid search parameter grid and scoring funcitons\n",
        "param_grid = {\n",
        "    \"eta\": [0.1, 0.01],\n",
        "    \"subsample\": [0.6, 0.8, 1.0],\n",
        "    \"max_depth\": [2,5,10,15,20,30],\n",
        "    \"n_estimators\": [10,20,30,50,100],\n",
        "    \"colsample_bytree\": [0.6, 0.8, 1.0],\n",
        "    \"gamma\": [0, 0.3,0.6,0.7,0.8,0.9,1],\n",
        "}\n",
        "\n",
        "n_iter=50\n",
        "grid = RandomizedSearchCV(\n",
        "    estimator=XGB_model,\n",
        "    param_distributions=param_grid,\n",
        "    n_jobs=-1,\n",
        "    n_iter=n_iter,\n",
        "    refit=\"AUC\",\n",
        ")\n",
        "# fit grid search\n",
        "%time best_model = grid.fit(x_train,y_train)"
      ],
      "metadata": {
        "colab": {
          "base_uri": "https://localhost:8080/"
        },
        "id": "OD_YSIO6bhfj",
        "outputId": "560bf647-c24f-4f1f-bb75-49498864270f"
      },
      "execution_count": 132,
      "outputs": [
        {
          "output_type": "stream",
          "name": "stdout",
          "text": [
            "CPU times: user 810 ms, sys: 21.2 ms, total: 831 ms\n",
            "Wall time: 11.7 s\n"
          ]
        }
      ]
    },
    {
      "cell_type": "code",
      "source": [
        "XGB_best_predicted = best_model.predict(x_test)\n",
        "predictions = best_model.predict(x_test)\n",
        "print(cr(predictions, y_test))"
      ],
      "metadata": {
        "colab": {
          "base_uri": "https://localhost:8080/"
        },
        "id": "bIPnDnk-b66S",
        "outputId": "5642f4ab-55d3-4d22-f29b-039872ed7d7a"
      },
      "execution_count": 133,
      "outputs": [
        {
          "output_type": "stream",
          "name": "stdout",
          "text": [
            "              precision    recall  f1-score   support\n",
            "\n",
            "           0       0.97      1.00      0.98        58\n",
            "           1       0.93      0.93      0.93        14\n",
            "           2       1.00      0.92      0.96        12\n",
            "           3       0.86      1.00      0.92         6\n",
            "           4       1.00      0.93      0.97        30\n",
            "\n",
            "    accuracy                           0.97       120\n",
            "   macro avg       0.95      0.96      0.95       120\n",
            "weighted avg       0.97      0.97      0.97       120\n",
            "\n"
          ]
        }
      ]
    },
    {
      "cell_type": "code",
      "source": [
        "print('subsample is: %d ' %best_model.best_estimator_.subsample)\n",
        "print('depth is: %d ' %best_model.best_estimator_.max_depth)\n",
        "print('n_estimators is: %.2f '  %best_model.best_estimator_.n_estimators)\n",
        "print('colsample_bytree is: %.2f '  %best_model.best_estimator_.colsample_bytree)\n",
        "print('Gamma is: %.2f '  %best_model.best_estimator_.gamma)"
      ],
      "metadata": {
        "colab": {
          "base_uri": "https://localhost:8080/"
        },
        "id": "gVK99iRdbhaD",
        "outputId": "0239b8ae-65a9-4420-f958-1d305777472a"
      },
      "execution_count": 134,
      "outputs": [
        {
          "output_type": "stream",
          "name": "stdout",
          "text": [
            "subsample is: 0 \n",
            "depth is: 30 \n",
            "n_estimators is: 50.00 \n",
            "colsample_bytree is: 1.00 \n",
            "Gamma is: 0.60 \n"
          ]
        }
      ]
    },
    {
      "cell_type": "markdown",
      "source": [
        "## with searching, the weighted average raises by 2%."
      ],
      "metadata": {
        "id": "AMA9j4Ume-Ib"
      }
    },
    {
      "cell_type": "code",
      "source": [
        "plot_importance(\n",
        "    booster=XGB_model,\n",
        "    importance_type='weight',\n",
        "    title='Feature Weight',\n",
        "    show_values=False,\n",
        "    height=0.5,\n",
        ")"
      ],
      "metadata": {
        "colab": {
          "base_uri": "https://localhost:8080/",
          "height": 489
        },
        "id": "ObK-ou6bXPih",
        "outputId": "575913e5-2610-454d-e815-53bea092dc2d"
      },
      "execution_count": 135,
      "outputs": [
        {
          "output_type": "execute_result",
          "data": {
            "text/plain": [
              "<Axes: title={'center': 'Feature Weight'}, xlabel='F score', ylabel='Features'>"
            ]
          },
          "metadata": {},
          "execution_count": 135
        },
        {
          "output_type": "display_data",
          "data": {
            "text/plain": [
              "<Figure size 640x480 with 1 Axes>"
            ],
            "image/png": "[encoded data removed]"
          },
          "metadata": {}
        }
      ]
    },
    {
      "cell_type": "code",
      "source": [
        "plot_importance(\n",
        "    booster=XGB_model,\n",
        "    importance_type='gain',\n",
        "    title='Split Mean Gain',\n",
        "    show_values=False,\n",
        "    height=0.5,\n",
        ")"
      ],
      "metadata": {
        "colab": {
          "base_uri": "https://localhost:8080/",
          "height": 489
        },
        "id": "8LuSNFcRXVHs",
        "outputId": "6ea1c7e9-7c66-4304-b14f-a04ffcb67546"
      },
      "execution_count": 136,
      "outputs": [
        {
          "output_type": "execute_result",
          "data": {
            "text/plain": [
              "<Axes: title={'center': 'Split Mean Gain'}, xlabel='F score', ylabel='Features'>"
            ]
          },
          "metadata": {},
          "execution_count": 136
        },
        {
          "output_type": "display_data",
          "data": {
            "text/plain": [
              "<Figure size 640x480 with 1 Axes>"
            ],
            "image/png": "[encoded data removed]"
          },
          "metadata": {}
        }
      ]
    },
    {
      "cell_type": "code",
      "source": [
        "plot_importance(\n",
        "    XGB_model,\n",
        "    importance_type='cover',\n",
        "    title='Sample Coverage',\n",
        "    show_values=False,\n",
        "    height=0.5,\n",
        ")"
      ],
      "metadata": {
        "colab": {
          "base_uri": "https://localhost:8080/",
          "height": 489
        },
        "id": "Sc-cQmH4FDK9",
        "outputId": "e0115c06-7d09-4a87-d120-a4dcf2ff1ca2"
      },
      "execution_count": 137,
      "outputs": [
        {
          "output_type": "execute_result",
          "data": {
            "text/plain": [
              "<Axes: title={'center': 'Sample Coverage'}, xlabel='F score', ylabel='Features'>"
            ]
          },
          "metadata": {},
          "execution_count": 137
        },
        {
          "output_type": "display_data",
          "data": {
            "text/plain": [
              "<Figure size 640x480 with 1 Axes>"
            ],
            "image/png": "[encoded data removed]"
          },
          "metadata": {}
        }
      ]
    },
    {
      "cell_type": "markdown",
      "source": [
        "## it seems that f2 and f4 are more important both in sample coverage and feature importance."
      ],
      "metadata": {
        "id": "8k2BR6UZX0QP"
      }
    },
    {
      "cell_type": "markdown",
      "source": [
        "## Light GBM"
      ],
      "metadata": {
        "id": "-5rETA1aEhhZ"
      }
    },
    {
      "cell_type": "code",
      "source": [
        "LGB_model = lgb.LGBMClassifier(learning_rate=0.09,max_depth=10)\n",
        "LGB_model.fit(x_train,y_train)\n",
        "LGB_predicted = LGB_model.predict(x_test)"
      ],
      "metadata": {
        "id": "0Yj_VY56dOiQ"
      },
      "execution_count": null,
      "outputs": []
    },
    {
      "cell_type": "code",
      "source": [
        "print(cr(LGB_predicted, y_test))"
      ],
      "metadata": {
        "colab": {
          "base_uri": "https://localhost:8080/"
        },
        "id": "KVAY1SzlfD_e",
        "outputId": "fd45870b-b5d6-4c69-a74a-7f498845c684"
      },
      "execution_count": 139,
      "outputs": [
        {
          "output_type": "stream",
          "name": "stdout",
          "text": [
            "              precision    recall  f1-score   support\n",
            "\n",
            "           0       0.92      1.00      0.96        55\n",
            "           1       0.93      0.87      0.90        15\n",
            "           2       1.00      0.85      0.92        13\n",
            "           3       1.00      1.00      1.00         7\n",
            "           4       1.00      0.93      0.97        30\n",
            "\n",
            "    accuracy                           0.95       120\n",
            "   macro avg       0.97      0.93      0.95       120\n",
            "weighted avg       0.95      0.95      0.95       120\n",
            "\n"
          ]
        }
      ]
    },
    {
      "cell_type": "markdown",
      "source": [
        "## light gbm also doing great as expected."
      ],
      "metadata": {
        "id": "2mYCuLm2YFOF"
      }
    },
    {
      "cell_type": "markdown",
      "source": [
        "## CatBoost"
      ],
      "metadata": {
        "id": "KOcxaN5fEqVZ"
      }
    },
    {
      "cell_type": "code",
      "source": [
        "CBC_model = CatBoostClassifier(learning_rate=.05, iterations=200, verbose=False)\n",
        "CBC_model.fit(x_train, y_train)\n",
        "CBC_predicted = CBC_model.predict(x_test)"
      ],
      "metadata": {
        "id": "8Qqteh_cfvKW"
      },
      "execution_count": 140,
      "outputs": []
    },
    {
      "cell_type": "code",
      "source": [
        "print(cr(CBC_predicted, y_test))"
      ],
      "metadata": {
        "colab": {
          "base_uri": "https://localhost:8080/"
        },
        "id": "Sori5vfcgiiR",
        "outputId": "1596bc28-ef1c-499c-db95-9533241803ac"
      },
      "execution_count": 141,
      "outputs": [
        {
          "output_type": "stream",
          "name": "stdout",
          "text": [
            "              precision    recall  f1-score   support\n",
            "\n",
            "           0       1.00      1.00      1.00        60\n",
            "           1       1.00      1.00      1.00        14\n",
            "           2       1.00      1.00      1.00        11\n",
            "           3       1.00      1.00      1.00         7\n",
            "           4       1.00      1.00      1.00        28\n",
            "\n",
            "    accuracy                           1.00       120\n",
            "   macro avg       1.00      1.00      1.00       120\n",
            "weighted avg       1.00      1.00      1.00       120\n",
            "\n"
          ]
        }
      ]
    },
    {
      "cell_type": "markdown",
      "source": [
        "## it was anticipated that catboost act very good in this categorical dataset."
      ],
      "metadata": {
        "id": "rOO6lJdOPbSM"
      }
    },
    {
      "cell_type": "markdown",
      "source": [
        "## Question: explain how KNN and decision trees can be extended to multi-label classification problems."
      ],
      "metadata": {
        "id": "ZVbBPF8sZ5Bl"
      }
    },
    {
      "cell_type": "markdown",
      "source": [
        "## Answer:\n",
        "there are different ways for doing this. but the simplest ones are:\n",
        "\n",
        "\n",
        "1.   treat each label as a binary classification problem and at the end finally assign all predicted labels that come from seperate KNN or decision trees.\n",
        "2.   Treat each combination of labels as a unique class and Convert the multi-label problem into a multi-class problem.\n",
        "3.   Modify the distance metric to consider the correlation between labels.\n",
        "\n",
        "of course there are other sophisticated way for doing this. one example is to Use ensemble methods like Random Forests or Gradient Boosted Trees and Train multiple decision trees, each focusing on a subset of labels and finally Combine the results to make predictions for multiple labels\n",
        "\n"
      ],
      "metadata": {
        "id": "T0tg0m1ZZ7uR"
      }
    }
  ]
}